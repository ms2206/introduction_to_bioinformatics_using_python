{
 "cells": [
  {
   "cell_type": "code",
   "execution_count": 6,
   "metadata": {
    "collapsed": true
   },
   "outputs": [],
   "source": [
    "import os\n",
    "import sys"
   ]
  },
  {
   "cell_type": "code",
   "execution_count": 7,
   "outputs": [],
   "source": [
    "# Add the parent directory to sys.path\n",
    "sys.path.append(os.path.abspath(os.path.join('..')))\n",
    "\n",
    "from utils import complement"
   ],
   "metadata": {
    "collapsed": false
   }
  },
  {
   "cell_type": "code",
   "execution_count": 8,
   "outputs": [],
   "source": [
    "current_directory = os.getcwd()\n",
    "fastq_dir = os.path.join(current_directory, 'data', 'fasta_directory')"
   ],
   "metadata": {
    "collapsed": false
   }
  },
  {
   "cell_type": "code",
   "execution_count": 9,
   "outputs": [
    {
     "data": {
      "text/plain": "['H1N1_NP.fasta',\n 'H1N1_PB1.fasta',\n 'H1N1_NS.fasta',\n 'H1N1_PB2.fasta',\n 'gene_sequence.fasta',\n 'H1N1_MP.fasta',\n 'H1N1_HA.fasta',\n 'H1N1_PA.fasta',\n 'H1N1_NA.fasta']"
     },
     "execution_count": 9,
     "metadata": {},
     "output_type": "execute_result"
    }
   ],
   "source": [
    "fastq_files = [file for file in os.listdir(fastq_dir) if file.endswith('fasta')]\n",
    "fastq_files"
   ],
   "metadata": {
    "collapsed": false
   }
  },
  {
   "cell_type": "code",
   "execution_count": 10,
   "outputs": [],
   "source": [
    "gene_sequence_fasta_filepath = fastq_files[4]"
   ],
   "metadata": {
    "collapsed": false
   }
  },
  {
   "cell_type": "code",
   "execution_count": 11,
   "outputs": [
    {
     "data": {
      "text/plain": "'/Users/mspriggs/Library/CloudStorage/OneDrive-Illumina,Inc./Documents/Applied Bioinformatics/modules/introduction_to_bioinformatics_using_python/tue/practicals/prac5/data/fasta_directory/gene_sequence.fasta'"
     },
     "execution_count": 11,
     "metadata": {},
     "output_type": "execute_result"
    }
   ],
   "source": [
    "os.path.join(fastq_dir, gene_sequence_fasta_filepath)"
   ],
   "metadata": {
    "collapsed": false
   }
  },
  {
   "cell_type": "code",
   "execution_count": 12,
   "outputs": [
    {
     "data": {
      "text/plain": "'AGATGGCGGCGCTGAGGGGTCTTGGGGGCTCTAGGCCGGCCACCTACTGGTTTGCAGCGGAGACGACGCATGGGGCCTGCGCAATAGGAGTACGCTGCCTGGGAGGCGTGACTAGAAGCGGAAGTAGTTGTGGGCGCCTTTGCAACCGCCTGGGACGCCGCCGAGTGGTCTGTGCAGGTTCGCGGGTCGCTGGCGGGGGTCGTGAGGGAGTGCGCCGGGAGCGGAGATATGGAGGGAGATGGTTCAGACCCAGAGCCTCCAGATGCCGGGGAGGACAGCAAGTCCGAGAATGGGGAGAATGCGCCCATCTACTGCATCTGCCGCAAACCGGACATCAACTGCTTCATGATCGGGTGTGACAACTGCAATGAGTGGTTCCATGGGGACTGCATCCGGATCACTGAGAAGATGGCCAAGGCCATCCGGGAGTGGTACTGTCGGGAGTGCAGAGAGAAAGACCCCAAGCTAGAGATTCGCTATCGGCACAAGAAGTCACGGGAGCGGGATGGCAATGAGCGGGACAGCAGTGAGCCCCGGGATGAGGGTGGAGGGCGCAAGAGGCCTGTCCCTGATCCAGACCTGCAGCGCCGGGCAGGGTCAGGGACAGGGGTTGGGGCCATGCTTGCTCGGGGCTCTGCTTCGCCCCACAAATCCTCTCCGCAGCCCTTGGTGGCCACACCCAGCCAGCATCACCAGCAGCAGCAGCAGCAGATCAAACGGTCAGCCCGCATGTGTGGTGAGTGTGAGGCATGTCGGCGCACTGAGGACTGTGGTCACTGTGATTTCTGTCGGGACATGAAGAAGTTCGGGGGCCCCAACAAGATCCGGCAGAAGTGCCGGCTGCGCCAGTGCCAGCTGCGGGCCCGGGAATCGTACAAGTACTTCCCTTCCTCGCTCTCACCAGTGACGCCCTCAGAGTCCCTGCCAAGGCCCCGCCGGCCACTGCCCACCCAACAGCAGCCACAGCCATCACAGAAGTTAGGGCGCATCCGTGAAGATGAGGGGGCAGTGGCGTCATCAACAGTCAAGGAGCCTCCTGAGGCTACAGCCACACCTGAGCCACTCTCAGATGAGGACCTACCTCTGGATCCTGACCTGTATCAGGACTTCTGTGCAGGGGCCTTTGATGACCATGGCCTGCCCTGGATGAGCGACACAGAAGAGTCCCCATTCCTGGACCCCGCGCTGCGGAAGAGGGCAGTGAAAGTGAAGCATGTGAAGCGTCGGGAGAAGAAGTCTGAGAAGAAGAAGGAGGAGCGATACAAGCGGCATCGGCAGAAGCAGAAGCACAAGGATAAATGGAAACACCCAGAGAGGGCTGATGCCAAGGACCCTGCGTCACTGCCCCAGTGCCTGGGGCCCGGCTGTGTGCGCCCCGCCCAGCCCAGCTCCAAGTATTGCTCAGATGACTGTGGCATGAAGCTGGCAGCCAACCGCATCTACGAGATCCTCCCCCAGCGCATCCAGCAGTGGCAGCAGAGCCCTTGCATTGCTGAAGAGCACGGCAAGAAGCTGCTCGAACGCATTCGCCGAGAGCAGCAGAGTGCCCGCACTCGCCTTCAGGAAATGGAACGCCGATTCCATGAGCTTGAGGCCATCATTCTACGTGCCAAGCAGCAGGCTGTGCGCGAGGATGAGGAGAGCAACGAGGGTGACAGTGATGACACAGACCTGCAGATCTTCTGTGTTTCCTGTGGGCACCCCATCAACCCACGTGTTGCCTTGCGCCACATGGAGCGCTGCTACGCCAAGTATGAGAGCCAGACGTCCTTTGGGTCCATGTACCCCACACGCATTGAAGGGGCCACACGACTCTTCTGTGATGTGTATAATCCTCAGAGCAAAACATACTGTAAGCGGCTCCAGGTGCTGTGCCCCGAGCACTCACGGGACCCCAAAGTGCCAGCTGACGAGGTATGCGGGTGCCCCCTTGTACGTGATGTCTTTGAGCTCACGGGTGACTTCTGCCGCCTGCCCAAGCGCCAGTGCAATCGCCATTACTGCTGGGAGAAGCTGCGGCGTGCGGAAGTGGACTTGGAGCGCGTGCGTGTGTGGTACAAGCTGGACGAGCTGTTTGAGCAGGAGCGCAATGTGCGCACAGCCATGACAAACCGCGCGGGATTGCTGGCCCTGATGCTGCACCAGACGATCCAGCACGATCCCCTCACTACCGACCTGCGCTCCAGTGCCGACCGCTGAGCCTCCTGGCCCGGACCCCTTACACCCTGCATTCCAGATGGGGGAGCCGCCCGGTGCCCGTGTGTCCGTTCCTCCACTCATCTGTTTCTCCGGTTCTCCCTGTGCCCATCCACCGGTTGACCGCCCATCTGCCTTTATCAGAGGGACTGTCCCCGTCGACATGTTCAGTGCCTGGTGGGGCTGCGGAGTCCACTCATCCTTGCCTCCTCTCCCTGGGTTTTGTTAATAAAATTTTGAAGAAACCAAAAAAAAAAAAAAAAAAAAAAAAAAAAAAAAAAAAAAAAAAAA'"
     },
     "execution_count": 12,
     "metadata": {},
     "output_type": "execute_result"
    }
   ],
   "source": [
    "with open(os.path.join(fastq_dir, gene_sequence_fasta_filepath), 'r') as file:\n",
    "    next(file)    # ignore header\n",
    "\n",
    "    data = []\n",
    "    for l in file:\n",
    "        data.append(l.strip())\n",
    "        long_string = ''.join(data)\n",
    "\n",
    "long_string"
   ],
   "metadata": {
    "collapsed": false
   }
  },
  {
   "cell_type": "code",
   "execution_count": 13,
   "outputs": [],
   "source": [
    "gbank_filepath = os.path.join(current_directory, 'data', 'pccx1.gb')"
   ],
   "metadata": {
    "collapsed": false
   }
  },
  {
   "cell_type": "code",
   "execution_count": 27,
   "outputs": [
    {
     "data": {
      "text/plain": "['1 agatggcggc gctgaggggt cttgggggct ctaggccggc cacctactgg tttgcagcgg',\n '61 agacgacgca tggggcctgc gcaataggag tacgctgcct gggaggcgtg actagaagcg',\n '121 gaagtagttg tgggcgcctt tgcaaccgcc tgggacgccg ccgagtggtc tgtgcaggtt',\n '181 cgcgggtcgc tggcgggggt cgtgagggag tgcgccggga gcggagatat ggagggagat',\n '241 ggttcagacc cagagcctcc agatgccggg gaggacagca agtccgagaa tggggagaat',\n '301 gcgcccatct actgcatctg ccgcaaaccg gacatcaact gcttcatgat cgggtgtgac',\n '361 aactgcaatg agtggttcca tggggactgc atccggatca ctgagaagat ggccaaggcc',\n '421 atccgggagt ggtactgtcg ggagtgcaga gagaaagacc ccaagctaga gattcgctat',\n '481 cggcacaaga agtcacggga gcgggatggc aatgagcggg acagcagtga gccccgggat',\n '541 gagggtggag ggcgcaagag gcctgtccct gatccagacc tgcagcgccg ggcagggtca',\n '601 gggacagggg ttggggccat gcttgctcgg ggctctgctt cgccccacaa atcctctccg',\n '661 cagcccttgg tggccacacc cagccagcat caccagcagc agcagcagca gatcaaacgg',\n '721 tcagcccgca tgtgtggtga gtgtgaggca tgtcggcgca ctgaggactg tggtcactgt',\n '781 gatttctgtc gggacatgaa gaagttcggg ggccccaaca agatccggca gaagtgccgg',\n '841 ctgcgccagt gccagctgcg ggcccgggaa tcgtacaagt acttcccttc ctcgctctca',\n '901 ccagtgacgc cctcagagtc cctgccaagg ccccgccggc cactgcccac ccaacagcag',\n '961 ccacagccat cacagaagtt agggcgcatc cgtgaagatg agggggcagt ggcgtcatca',\n '1021 acagtcaagg agcctcctga ggctacagcc acacctgagc cactctcaga tgaggaccta',\n '1081 cctctggatc ctgacctgta tcaggacttc tgtgcagggg cctttgatga ccatggcctg',\n '1141 ccctggatga gcgacacaga agagtcccca ttcctggacc ccgcgctgcg gaagagggca',\n '1201 gtgaaagtga agcatgtgaa gcgtcgggag aagaagtctg agaagaagaa ggaggagcga',\n '1261 tacaagcggc atcggcagaa gcagaagcac aaggataaat ggaaacaccc agagagggct',\n '1321 gatgccaagg accctgcgtc actgccccag tgcctggggc ccggctgtgt gcgccccgcc',\n '1381 cagcccagct ccaagtattg ctcagatgac tgtggcatga agctggcagc caaccgcatc',\n '1441 tacgagatcc tcccccagcg catccagcag tggcagcaga gcccttgcat tgctgaagag',\n '1501 cacggcaaga agctgctcga acgcattcgc cgagagcagc agagtgcccg cactcgcctt',\n '1561 caggaaatgg aacgccgatt ccatgagctt gaggccatca ttctacgtgc caagcagcag',\n '1621 gctgtgcgcg aggatgagga gagcaacgag ggtgacagtg atgacacaga cctgcagatc',\n '1681 ttctgtgttt cctgtgggca ccccatcaac ccacgtgttg ccttgcgcca catggagcgc',\n '1741 tgctacgcca agtatgagag ccagacgtcc tttgggtcca tgtaccccac acgcattgaa',\n '1801 ggggccacac gactcttctg tgatgtgtat aatcctcaga gcaaaacata ctgtaagcgg',\n '1861 ctccaggtgc tgtgccccga gcactcacgg gaccccaaag tgccagctga cgaggtatgc',\n '1921 gggtgccccc ttgtacgtga tgtctttgag ctcacgggtg acttctgccg cctgcccaag',\n '1981 cgccagtgca atcgccatta ctgctgggag aagctgcggc gtgcggaagt ggacttggag',\n '2041 cgcgtgcgtg tgtggtacaa gctggacgag ctgtttgagc aggagcgcaa tgtgcgcaca',\n '2101 gccatgacaa accgcgcggg attgctggcc ctgatgctgc accagacgat ccagcacgat',\n '2161 cccctcacta ccgacctgcg ctccagtgcc gaccgctgag cctcctggcc cggacccctt',\n '2221 acaccctgca ttccagatgg gggagccgcc cggtgcccgt gtgtccgttc ctccactcat',\n '2281 ctgtttctcc ggttctccct gtgcccatcc accggttgac cgcccatctg cctttatcag',\n '2341 agggactgtc cccgtcgaca tgttcagtgc ctggtggggc tgcggagtcc actcatcctt',\n '2401 gcctcctctc cctgggtttt gttaataaaa ttttgaagaa accaaaaaaa aaaaaaaaaa',\n '2461 aaaaaaaaaa aaaaaaaaaa aaaaaaa',\n '//',\n '']"
     },
     "execution_count": 27,
     "metadata": {},
     "output_type": "execute_result"
    }
   ],
   "source": [
    "with open(gbank_filepath) as file:\n",
    "    for l in file:\n",
    "        if 'ORIGIN' in l:\n",
    "            lines = [sl.strip() for sl in file]\n",
    "\n",
    "lines"
   ],
   "metadata": {
    "collapsed": false
   }
  },
  {
   "cell_type": "code",
   "execution_count": 15,
   "outputs": [],
   "source": [
    "seq = []\n",
    "for l in lines:\n",
    "    for char in l:\n",
    "        if not char.isdigit():\n",
    "            if char != ' ':\n",
    "                seq.append(char)\n",
    "\n",
    "dna_string = ''.join(seq).strip()[:-2]"
   ],
   "metadata": {
    "collapsed": false
   }
  },
  {
   "cell_type": "code",
   "execution_count": 21,
   "outputs": [
    {
     "data": {
      "text/plain": "'AAAAAAAAAAAAAAAAAAAAAAAAAAAAAAAAAAAAAAAAAAAACCAAAGAAGUUUUAAAAUAAUUGUUUUGGGUCCCUCUCCUCCGUUCCUACUCACCUGAGGCGUCGGGGUGGUCCGUGACUUGUACAGCUGCCCCUGUCAGGGAGACUAUUUCCGUCUACCCGCCAGUUGGCCACCUACCCGUGUCCCUCUUGGCCUCUUUGUCUACUCACCUCCUUGCCUGUGUGCCCGUGGCCCGCCGAGGGGGUAGACCUUACGUCCCACAUUCCCCAGGCCCGGUCCUCCGAGUCGCCAGCCGUGACCUCGCGUCCAGCCAUCACUCCCCUAGCACGACCUAGCAGACCACGUCGUAGUCCCGGUCGUUAGGGCGCGCCAAACAGUACCGACACGCGUGUAACGCGAGGACGAGUUUGUCGAGCAGGUCGAACAUGGUGUGUGCGUGCGCGAGGUUCAGGUGAAGGCGUGCGGCGUCGAAGAGGGUCGUCAUUACCGCUAACGUGACCGCGAACCCGUCCGCCGUCUUCAGUGGGCACUCGAGUUUCUGUAGUGCAUGUUCCCCCGUGGGCGUAUGGAGCAGUCGACCGUGAAACCCCAGGGCACUCACGAGCCCCGUGUCGUGGACCUCGGCGAAUGUCAUACAAAACGAGACUCCUAAUAUGUGUAGUGUCUUCUCAGCACACCGGGGAAGUUACGCACACCCCAUGUACCUGGGUUUCCUGCAGACCGAGAGUAUGAACCGCAUCGUCGCGAGGUACACCGCGUUCCGUUGUGCACCCAACUACCCCACGGGUGUCCUUUGUGUCUUCUAGACGUCCAGACACAGUAGUGACAGUGGGAGCAACGAGAGGAGUAGGAGCGCGUGUCGGACGACGAACCGUGCAUCUUACUACCGGAGUUCGAGUACCUUAGCCGCAAGGUAAAGGACUUCCGCUCACGCCCGUGAGACGACGAGAGCCGCUUACGCAAGCUCGUCGAAGAACGGCACGAGAAGUCGUUACGUUCCCGAGACGACGGUGACGACCUACGCGACCCCCUCCUAGAGCAUCUACGCCAACCGACGGUCGAAGUACGGUGUCAGUAGACUCGUUAUGAACCUCGACCCGACCCGCCCCGCGUGUGUCGGCCCGGGGUCCGUGACCCCGUCACUGCGUCCCAGGAACCGUAGUCGGGAGAGACCCACAAAGGUAAAUAGGAACACGAAGACGAAGACGGCUACGGCGAACAUAGCGAGGAGGAAGAAGAAGAGUCUGAAGAAGAGGGCUGCGAAGUGUACGAAGUGAAAGUGACGGGAGAAGGCGUCGCGCCCCAGGUCCUUACCCCUGAGAAGACACAGCGAGUAGGUCCCGUCCGGUACCAGUAGUUUCCGGGGACGUGUCUUCAGGACUAUGUCCAGUCCUAGGUCUCCAUCCAGGAGUAGACUCUCACCGAGUCCACACCGACAUCGGAGUCCUCCGAGGAACUGACAACUACUGCGGUGACGGGGGAGUAGAAGUGCCUACGCGGGAUUGAAGACACUACCGACACCGACGACAACCCACCCGUCACCGGCCGCCCCGGAACCGUCCCUGAGACUCCCGCAGUGACCACUCUCGCUCCUUCCCUUCAUGAACAUGCUAAGGGCCCGGGCGUCGACCGUGACCGCGUCGGCCGUGAAGACGGCCUAGAACAACCCCGGGGGCUUGAAGAAGUACAGGGCUGUCUUUAGUGUCACUGGUGUCAGGAGUCACGCGGCUGUACGGAGUGUGAGUGGUGUGUACGCCCGACUGGCAAACUAGACGACGACGACGACGACCACUACGACCGACCCACACCGGUGGUUCCCGACGCCUCUCCUAAACACCCCGCUUCGUCUCGGGGCUCGUUCGUACCGGGGUUGGGGACAGGGACUGGGACGGGCCGCGACGUCCAGACCUAGUCCCUGUCCGGAGAACGCGGGAGGUGGGAGUAGGGCCCCGAGUGACGACAGGGCGAGUAACGGUAGGGCGAGGGCACUGAAGAACACGGCUAUCGCUUAGAGAUCGAACCCCAGAAAGAGAGACGUGAGGGCUGUCAUGGUGAGGGCCUACCGGAACCGGUAGAAGAGUCACUAGGCCUACGUCAGGGGUACCUUGGUGAGUAACGUCAACAGUGUGGGCUAGUACUUCGUCAACUACAGGCCAAACGCCGUCUACGUCAUCUACCCGCGUAAGAGGGGUAAGAGCCUGAACGACAGGAGGGGCCGUAGACCUCCGAGACCCAGACUUGGUAGAGGGAGGUAUAGAGGCGAGGGCCGCGUGAGGGAGUGCUGGGGGCGGUCGCUGGGCGCUUGGACGUGUCUGGUGAGCCGCCGCAGGGUCCGCCAACGUUUCCGCGGGUGUUGAUGAAGGCGAAGAUCAGUGCGGAGGGUCCGUCGCAUGAGGAUAACGCGUCCGGGGUACGCAGCAGAGGCGACGUUUGGUCAUCCACCGGCCGGAUCUCGGGGGUUCUGGGGAGUCGCGGCGGUAGA'"
     },
     "execution_count": 21,
     "metadata": {},
     "output_type": "execute_result"
    }
   ],
   "source": [
    "# conver from 3' - 5' to RNA\n",
    "rna = complement(dna_string[::-1])\n",
    "rna"
   ],
   "metadata": {
    "collapsed": false
   }
  },
  {
   "cell_type": "code",
   "execution_count": 22,
   "outputs": [
    {
     "data": {
      "text/plain": "['AAA',\n 'AAA',\n 'AAA',\n 'AAA',\n 'AAA',\n 'AAA',\n 'AAA',\n 'AAA',\n 'AAA',\n 'AAA',\n 'AAA',\n 'AAA',\n 'AAA',\n 'AAA',\n 'AAC',\n 'CAA',\n 'AGA',\n 'AGU',\n 'UUU',\n 'AAA',\n 'AUA',\n 'AUU',\n 'GUU',\n 'UUG',\n 'GGU',\n 'CCC',\n 'UCU',\n 'CCU',\n 'CCG',\n 'UUC',\n 'CUA',\n 'CUC',\n 'ACC',\n 'UGA',\n 'GGC',\n 'GUC',\n 'GGG',\n 'GUG',\n 'GUC',\n 'CGU',\n 'GAC',\n 'UUG',\n 'UAC',\n 'AGC',\n 'UGC',\n 'CCC',\n 'UGU',\n 'CAG',\n 'GGA',\n 'GAC',\n 'UAU',\n 'UUC',\n 'CGU',\n 'CUA',\n 'CCC',\n 'GCC',\n 'AGU',\n 'UGG',\n 'CCA',\n 'CCU',\n 'ACC',\n 'CGU',\n 'GUC',\n 'CCU',\n 'CUU',\n 'GGC',\n 'CUC',\n 'UUU',\n 'GUC',\n 'UAC',\n 'UCA',\n 'CCU',\n 'CCU',\n 'UGC',\n 'CUG',\n 'UGU',\n 'GCC',\n 'CGU',\n 'GGC',\n 'CCG',\n 'CCG',\n 'AGG',\n 'GGG',\n 'UAG',\n 'ACC',\n 'UUA',\n 'CGU',\n 'CCC',\n 'ACA',\n 'UUC',\n 'CCC',\n 'AGG',\n 'CCC',\n 'GGU',\n 'CCU',\n 'CCG',\n 'AGU',\n 'CGC',\n 'CAG',\n 'CCG',\n 'UGA',\n 'CCU',\n 'CGC',\n 'GUC',\n 'CAG',\n 'CCA',\n 'UCA',\n 'CUC',\n 'CCC',\n 'UAG',\n 'CAC',\n 'GAC',\n 'CUA',\n 'GCA',\n 'GAC',\n 'CAC',\n 'GUC',\n 'GUA',\n 'GUC',\n 'CCG',\n 'GUC',\n 'GUU',\n 'AGG',\n 'GCG',\n 'CGC',\n 'CAA',\n 'ACA',\n 'GUA',\n 'CCG',\n 'ACA',\n 'CGC',\n 'GUG',\n 'UAA',\n 'CGC',\n 'GAG',\n 'GAC',\n 'GAG',\n 'UUU',\n 'GUC',\n 'GAG',\n 'CAG',\n 'GUC',\n 'GAA',\n 'CAU',\n 'GGU',\n 'GUG',\n 'UGC',\n 'GUG',\n 'CGC',\n 'GAG',\n 'GUU',\n 'CAG',\n 'GUG',\n 'AAG',\n 'GCG',\n 'UGC',\n 'GGC',\n 'GUC',\n 'GAA',\n 'GAG',\n 'GGU',\n 'CGU',\n 'CAU',\n 'UAC',\n 'CGC',\n 'UAA',\n 'CGU',\n 'GAC',\n 'CGC',\n 'GAA',\n 'CCC',\n 'GUC',\n 'CGC',\n 'CGU',\n 'CUU',\n 'CAG',\n 'UGG',\n 'GCA',\n 'CUC',\n 'GAG',\n 'UUU',\n 'CUG',\n 'UAG',\n 'UGC',\n 'AUG',\n 'UUC',\n 'CCC',\n 'CGU',\n 'GGG',\n 'CGU',\n 'AUG',\n 'GAG',\n 'CAG',\n 'UCG',\n 'ACC',\n 'GUG',\n 'AAA',\n 'CCC',\n 'CAG',\n 'GGC',\n 'ACU',\n 'CAC',\n 'GAG',\n 'CCC',\n 'CGU',\n 'GUC',\n 'GUG',\n 'GAC',\n 'CUC',\n 'GGC',\n 'GAA',\n 'UGU',\n 'CAU',\n 'ACA',\n 'AAA',\n 'CGA',\n 'GAC',\n 'UCC',\n 'UAA',\n 'UAU',\n 'GUG',\n 'UAG',\n 'UGU',\n 'CUU',\n 'CUC',\n 'AGC',\n 'ACA',\n 'CCG',\n 'GGG',\n 'AAG',\n 'UUA',\n 'CGC',\n 'ACA',\n 'CCC',\n 'CAU',\n 'GUA',\n 'CCU',\n 'GGG',\n 'UUU',\n 'CCU',\n 'GCA',\n 'GAC',\n 'CGA',\n 'GAG',\n 'UAU',\n 'GAA',\n 'CCG',\n 'CAU',\n 'CGU',\n 'CGC',\n 'GAG',\n 'GUA',\n 'CAC',\n 'CGC',\n 'GUU',\n 'CCG',\n 'UUG',\n 'UGC',\n 'ACC',\n 'CAA',\n 'CUA',\n 'CCC',\n 'CAC',\n 'GGG',\n 'UGU',\n 'CCU',\n 'UUG',\n 'UGU',\n 'CUU',\n 'CUA',\n 'GAC',\n 'GUC',\n 'CAG',\n 'ACA',\n 'CAG',\n 'UAG',\n 'UGA',\n 'CAG',\n 'UGG',\n 'GAG',\n 'CAA',\n 'CGA',\n 'GAG',\n 'GAG',\n 'UAG',\n 'GAG',\n 'CGC',\n 'GUG',\n 'UCG',\n 'GAC',\n 'GAC',\n 'GAA',\n 'CCG',\n 'UGC',\n 'AUC',\n 'UUA',\n 'CUA',\n 'CCG',\n 'GAG',\n 'UUC',\n 'GAG',\n 'UAC',\n 'CUU',\n 'AGC',\n 'CGC',\n 'AAG',\n 'GUA',\n 'AAG',\n 'GAC',\n 'UUC',\n 'CGC',\n 'UCA',\n 'CGC',\n 'CCG',\n 'UGA',\n 'GAC',\n 'GAC',\n 'GAG',\n 'AGC',\n 'CGC',\n 'UUA',\n 'CGC',\n 'AAG',\n 'CUC',\n 'GUC',\n 'GAA',\n 'GAA',\n 'CGG',\n 'CAC',\n 'GAG',\n 'AAG',\n 'UCG',\n 'UUA',\n 'CGU',\n 'UCC',\n 'CGA',\n 'GAC',\n 'GAC',\n 'GGU',\n 'GAC',\n 'GAC',\n 'CUA',\n 'CGC',\n 'GAC',\n 'CCC',\n 'CUC',\n 'CUA',\n 'GAG',\n 'CAU',\n 'CUA',\n 'CGC',\n 'CAA',\n 'CCG',\n 'ACG',\n 'GUC',\n 'GAA',\n 'GUA',\n 'CGG',\n 'UGU',\n 'CAG',\n 'UAG',\n 'ACU',\n 'CGU',\n 'UAU',\n 'GAA',\n 'CCU',\n 'CGA',\n 'CCC',\n 'GAC',\n 'CCG',\n 'CCC',\n 'CGC',\n 'GUG',\n 'UGU',\n 'CGG',\n 'CCC',\n 'GGG',\n 'GUC',\n 'CGU',\n 'GAC',\n 'CCC',\n 'GUC',\n 'ACU',\n 'GCG',\n 'UCC',\n 'CAG',\n 'GAA',\n 'CCG',\n 'UAG',\n 'UCG',\n 'GGA',\n 'GAG',\n 'ACC',\n 'CAC',\n 'AAA',\n 'GGU',\n 'AAA',\n 'UAG',\n 'GAA',\n 'CAC',\n 'GAA',\n 'GAC',\n 'GAA',\n 'GAC',\n 'GGC',\n 'UAC',\n 'GGC',\n 'GAA',\n 'CAU',\n 'AGC',\n 'GAG',\n 'GAG',\n 'GAA',\n 'GAA',\n 'GAA',\n 'GAG',\n 'UCU',\n 'GAA',\n 'GAA',\n 'GAG',\n 'GGC',\n 'UGC',\n 'GAA',\n 'GUG',\n 'UAC',\n 'GAA',\n 'GUG',\n 'AAA',\n 'GUG',\n 'ACG',\n 'GGA',\n 'GAA',\n 'GGC',\n 'GUC',\n 'GCG',\n 'CCC',\n 'CAG',\n 'GUC',\n 'CUU',\n 'ACC',\n 'CCU',\n 'GAG',\n 'AAG',\n 'ACA',\n 'CAG',\n 'CGA',\n 'GUA',\n 'GGU',\n 'CCC',\n 'GUC',\n 'CGG',\n 'UAC',\n 'CAG',\n 'UAG',\n 'UUU',\n 'CCG',\n 'GGG',\n 'ACG',\n 'UGU',\n 'CUU',\n 'CAG',\n 'GAC',\n 'UAU',\n 'GUC',\n 'CAG',\n 'UCC',\n 'UAG',\n 'GUC',\n 'UCC',\n 'AUC',\n 'CAG',\n 'GAG',\n 'UAG',\n 'ACU',\n 'CUC',\n 'ACC',\n 'GAG',\n 'UCC',\n 'ACA',\n 'CCG',\n 'ACA',\n 'UCG',\n 'GAG',\n 'UCC',\n 'UCC',\n 'GAG',\n 'GAA',\n 'CUG',\n 'ACA',\n 'ACU',\n 'ACU',\n 'GCG',\n 'GUG',\n 'ACG',\n 'GGG',\n 'GAG',\n 'UAG',\n 'AAG',\n 'UGC',\n 'CUA',\n 'CGC',\n 'GGG',\n 'AUU',\n 'GAA',\n 'GAC',\n 'ACU',\n 'ACC',\n 'GAC',\n 'ACC',\n 'GAC',\n 'GAC',\n 'AAC',\n 'CCA',\n 'CCC',\n 'GUC',\n 'ACC',\n 'GGC',\n 'CGC',\n 'CCC',\n 'GGA',\n 'ACC',\n 'GUC',\n 'CCU',\n 'GAG',\n 'ACU',\n 'CCC',\n 'GCA',\n 'GUG',\n 'ACC',\n 'ACU',\n 'CUC',\n 'GCU',\n 'CCU',\n 'UCC',\n 'CUU',\n 'CAU',\n 'GAA',\n 'CAU',\n 'GCU',\n 'AAG',\n 'GGC',\n 'CCG',\n 'GGC',\n 'GUC',\n 'GAC',\n 'CGU',\n 'GAC',\n 'CGC',\n 'GUC',\n 'GGC',\n 'CGU',\n 'GAA',\n 'GAC',\n 'GGC',\n 'CUA',\n 'GAA',\n 'CAA',\n 'CCC',\n 'CGG',\n 'GGG',\n 'CUU',\n 'GAA',\n 'GAA',\n 'GUA',\n 'CAG',\n 'GGC',\n 'UGU',\n 'CUU',\n 'UAG',\n 'UGU',\n 'CAC',\n 'UGG',\n 'UGU',\n 'CAG',\n 'GAG',\n 'UCA',\n 'CGC',\n 'GGC',\n 'UGU',\n 'ACG',\n 'GAG',\n 'UGU',\n 'GAG',\n 'UGG',\n 'UGU',\n 'GUA',\n 'CGC',\n 'CCG',\n 'ACU',\n 'GGC',\n 'AAA',\n 'CUA',\n 'GAC',\n 'GAC',\n 'GAC',\n 'GAC',\n 'GAC',\n 'GAC',\n 'CAC',\n 'UAC',\n 'GAC',\n 'CGA',\n 'CCC',\n 'ACA',\n 'CCG',\n 'GUG',\n 'GUU',\n 'CCC',\n 'GAC',\n 'GCC',\n 'UCU',\n 'CCU',\n 'AAA',\n 'CAC',\n 'CCC',\n 'GCU',\n 'UCG',\n 'UCU',\n 'CGG',\n 'GGC',\n 'UCG',\n 'UUC',\n 'GUA',\n 'CCG',\n 'GGG',\n 'UUG',\n 'GGG',\n 'ACA',\n 'GGG',\n 'ACU',\n 'GGG',\n 'ACG',\n 'GGC',\n 'CGC',\n 'GAC',\n 'GUC',\n 'CAG',\n 'ACC',\n 'UAG',\n 'UCC',\n 'CUG',\n 'UCC',\n 'GGA',\n 'GAA',\n 'CGC',\n 'GGG',\n 'AGG',\n 'UGG',\n 'GAG',\n 'UAG',\n 'GGC',\n 'CCC',\n 'GAG',\n 'UGA',\n 'CGA',\n 'CAG',\n 'GGC',\n 'GAG',\n 'UAA',\n 'CGG',\n 'UAG',\n 'GGC',\n 'GAG',\n 'GGC',\n 'ACU',\n 'GAA',\n 'GAA',\n 'CAC',\n 'GGC',\n 'UAU',\n 'CGC',\n 'UUA',\n 'GAG',\n 'AUC',\n 'GAA',\n 'CCC',\n 'CAG',\n 'AAA',\n 'GAG',\n 'AGA',\n 'CGU',\n 'GAG',\n 'GGC',\n 'UGU',\n 'CAU',\n 'GGU',\n 'GAG',\n 'GGC',\n 'CUA',\n 'CCG',\n 'GAA',\n 'CCG',\n 'GUA',\n 'GAA',\n 'GAG',\n 'UCA',\n 'CUA',\n 'GGC',\n 'CUA',\n 'CGU',\n 'CAG',\n 'GGG',\n 'UAC',\n 'CUU',\n 'GGU',\n 'GAG',\n 'UAA',\n 'CGU',\n 'CAA',\n 'CAG',\n 'UGU',\n 'GGG',\n 'CUA',\n 'GUA',\n 'CUU',\n 'CGU',\n 'CAA',\n 'CUA',\n 'CAG',\n 'GCC',\n 'AAA',\n 'CGC',\n 'CGU',\n 'CUA',\n 'CGU',\n 'CAU',\n 'CUA',\n 'CCC',\n 'GCG',\n 'UAA',\n 'GAG',\n 'GGG',\n 'UAA',\n 'GAG',\n 'CCU',\n 'GAA',\n 'CGA',\n 'CAG',\n 'GAG',\n 'GGG',\n 'CCG',\n 'UAG',\n 'ACC',\n 'UCC',\n 'GAG',\n 'ACC',\n 'CAG',\n 'ACU',\n 'UGG',\n 'UAG',\n 'AGG',\n 'GAG',\n 'GUA',\n 'UAG',\n 'AGG',\n 'CGA',\n 'GGG',\n 'CCG',\n 'CGU',\n 'GAG',\n 'GGA',\n 'GUG',\n 'CUG',\n 'GGG',\n 'GCG',\n 'GUC',\n 'GCU',\n 'GGG',\n 'CGC',\n 'UUG',\n 'GAC',\n 'GUG',\n 'UCU',\n 'GGU',\n 'GAG',\n 'CCG',\n 'CCG',\n 'CAG',\n 'GGU',\n 'CCG',\n 'CCA',\n 'ACG',\n 'UUU',\n 'CCG',\n 'CGG',\n 'GUG',\n 'UUG',\n 'AUG',\n 'AAG',\n 'GCG',\n 'AAG',\n 'AUC',\n 'AGU',\n 'GCG',\n 'GAG',\n 'GGU',\n 'CCG',\n 'UCG',\n 'CAU',\n 'GAG',\n 'GAU',\n 'AAC',\n 'GCG',\n 'UCC',\n 'GGG',\n 'GUA',\n 'CGC',\n 'AGC',\n 'AGA',\n 'GGC',\n 'GAC',\n 'GUU',\n 'UGG',\n 'UCA',\n 'UCC',\n 'ACC',\n 'GGC',\n 'CGG',\n 'AUC',\n 'UCG',\n 'GGG',\n 'GUU',\n 'CUG',\n 'GGG',\n 'AGU',\n 'CGC',\n 'GGC',\n 'GGU',\n 'AGA']"
     },
     "execution_count": 22,
     "metadata": {},
     "output_type": "execute_result"
    }
   ],
   "source": [
    "frame_start = 0\n",
    "codons = []\n",
    "\n",
    "# length of rna - length of rna that is exacly divisivly by 3\n",
    "# is the length of rna that is divisible by 3\n",
    "frame_end = len(rna[frame_start:]) - (len(rna[frame_start:]) % 3)\n",
    "\n",
    "for i in range(frame_start, frame_end, 3):\n",
    "\n",
    "    codons.append(rna[i:i+3])\n",
    "\n",
    "codons"
   ],
   "metadata": {
    "collapsed": false
   }
  },
  {
   "cell_type": "code",
   "execution_count": 23,
   "outputs": [],
   "source": [
    "aminoacid_dict = {\n",
    "    'AUA':'I', 'AUC':'I', 'AUU':'I', 'AUG':'M',\n",
    "    'ACA':'T', 'ACC':'T', 'ACG':'T', 'ACU':'T',\n",
    "    'AAC':'N', 'AAU':'N', 'AAA':'K', 'AAG':'K',\n",
    "    'AGC':'S', 'AGU':'S', 'AGA':'R', 'AGG':'R',\n",
    "    'CUA':'L', 'CUC':'L', 'CUG':'L', 'CUU':'L',\n",
    "    'CCA':'P', 'CCC':'P', 'CCG':'P', 'CCU':'P',\n",
    "    'CAC':'H', 'CAU':'H', 'CAA':'Q', 'CAG':'Q',\n",
    "    'CGA':'R', 'CGC':'R', 'CGG':'R', 'CGU':'R',\n",
    "    'GUA':'V', 'GUC':'V', 'GUG':'V', 'GUU':'V',\n",
    "    'GCA':'A', 'GCC':'A', 'GCG':'A', 'GCU':'A',\n",
    "    'GAC':'D', 'GAU':'D', 'GAA':'E', 'GAG':'E',\n",
    "    'GGA':'G', 'GGC':'G', 'GGG':'G', 'GGU':'G',\n",
    "    'UCA':'S', 'UCC':'S', 'UCG':'S', 'UCU':'S',\n",
    "    'UUC':'F', 'UUU':'F', 'UUA':'L', 'UUG':'L',\n",
    "    'UAC':'Y', 'UAU':'Y', 'UAA':'_', 'UAG':'_',\n",
    "    'UGC':'C', 'UGU':'C', 'UGA':'_', 'UGG':'W'}"
   ],
   "metadata": {
    "collapsed": false
   }
  },
  {
   "cell_type": "code",
   "execution_count": 24,
   "outputs": [
    {
     "data": {
      "text/plain": "'KKKKKKKKKKKKKKNQRSFKIIVLGPSPPFLLT_GVGVVRDLYSCPCQGDYFRLPASWPPTRVPLGLFVYSPPCLCARGPPRG_TLRPTFPRPGPPSRQP_PRVQPSLP_HDLADHVVVPVVRARQTVPTRV_REDEFVEQVEHGVCVREVQVKACGVEEGRHYR_RDREPVRRLQWALEFL_CMFPRGRMEQSTVKPQGTHEPRVVDLGECHTKRDS_YV_CLLSTPGKLRTPHVPGFPADREYEPHRREVHRVPLCTQLPHGCPLCLLDVQTQ__QWEQREE_ERVSDDEPCILLPEFEYLSRKVKDFRSRP_DDESRLRKLVEERHEKSLRSRDDGDDLRDPLLEHLRQPTVEVRCQ_TRYEPRPDPPRVCRPGVRDPVTASQEP_SGETHKGK_EHEDEDGYGEHSEEEEEESEEEGCEVYEVKVTGEGVAPQVLTPEKTQRVGPVRYQ_FPGTCLQDYVQS_VSIQE_TLTESTPTSESSEELTTTAVTGE_KCLRGIEDTTDTDDNPPVTGRPGTVPETPAVTTLAPSLHEHAKGPGVDRDRVGREDGLEQPRGLEEVQGCL_CHWCQESRGCTECEWCVRPTGKLDDDDDDHYDRPTPVVPDASPKHPASSRGSFVPGLGTGTGTGRDVQT_SLSGERGRWE_GPE_RQGE_R_GEGTEEHGYRLEIEPQKERREGCHGEGLPEPVEESLGLRQGYLGE_RQQCGLVLRQLQAKRRLRHLPA_EG_EPERQEGP_TSETQTW_REV_RRGPREGVLGAVAGRLDVSGEPPQGPPTFPRVLMKAKISAEGPSHEDNASGVRSRGDVWSSTGRISGVLGSRGGR'"
     },
     "execution_count": 24,
     "metadata": {},
     "output_type": "execute_result"
    }
   ],
   "source": [
    "protien_chain = []\n",
    "\n",
    "for aa in codons:\n",
    "    protien_chain.append(aminoacid_dict[aa])\n",
    "\n",
    "''.join(protien_chain)"
   ],
   "metadata": {
    "collapsed": false
   }
  },
  {
   "cell_type": "code",
   "execution_count": 36,
   "outputs": [],
   "source": [
    "with open(gbank_filepath) as file:\n",
    "    for l in file:\n",
    "        if 'GI:8100075' in l:\n",
    "            lines = [sl.strip() for sl in file]\n",
    "\n",
    "\n",
    "# get end line\n",
    "for i,l in enumerate(lines):\n",
    "    #print(i, l)\n",
    "    if 'ORIGIN' in l:\n",
    "        end_line = i\n",
    "        break\n",
    "\n"
   ],
   "metadata": {
    "collapsed": false
   }
  },
  {
   "cell_type": "code",
   "execution_count": 53,
   "outputs": [],
   "source": [
    "gbank_protein_chain = ''.join([char for char in ''.join(lines[0:i]) if char.isupper()])"
   ],
   "metadata": {
    "collapsed": false
   }
  },
  {
   "cell_type": "code",
   "execution_count": 54,
   "outputs": [
    {
     "data": {
      "text/plain": "'MEGDGSDPEPPDAGEDSKSENGENAPIYCICRKPDINCFMIGCDNCNEWFHGDCIRITEKMAKAIREWYCRECREKDPKLEIRYRHKKSRERDGNERDSSEPRDEGGGRKRPVPDPDLQRRAGSGTGVGAMLARGSASPHKSSPQPLVATPSQHHQQQQQQIKRSARMCGECEACRRTEDCGHCDFCRDMKKFGGPNKIRQKCRLRQCQLRARESYKYFPSSLSPVTPSESLPRPRRPLPTQQQPQPSQKLGRIREDEGAVASSTVKEPPEATATPEPLSDEDLPLDPDLYQDFCAGAFDDHGLPWMSDTEESPFLDPALRKRAVKVKHVKRREKKSEKKKEERYKRHRQKQKHKDKWKHPERADAKDPASLPQCLGPGCVRPAQPSSKYCSDDCGMKLAANRIYEILPQRIQQWQQSPCIAEEHGKKLLERIRREQQSARTRLQEMERRFHELEAIILRAKQQAVREDEESNEGDSDDTDLQIFCVSCGHPINPRVALRHMERCYAKYESQTSFGSMYPTRIEGATRLFCDVYNPQSKTYCKRLQVLCPEHSRDPKVPADEVCGCPLVRDVFELTGDFCRLPKRQCNRHYCWEKLRRAEVDLERVRVWYKLDELFEQERNVRTAMTNRAGLLALMLHQTIQHDPLTTDLRSSADR'"
     },
     "execution_count": 54,
     "metadata": {},
     "output_type": "execute_result"
    }
   ],
   "source": [
    "gbank_protein_chain"
   ],
   "metadata": {
    "collapsed": false
   }
  },
  {
   "cell_type": "code",
   "execution_count": 63,
   "outputs": [
    {
     "data": {
      "text/plain": "{'I': 'AUU',\n 'M': 'AUG',\n 'T': 'ACU',\n 'N': 'AAU',\n 'K': 'AAG',\n 'S': 'UCU',\n 'R': 'CGU',\n 'L': 'UUG',\n 'P': 'CCU',\n 'H': 'CAU',\n 'Q': 'CAG',\n 'V': 'GUU',\n 'A': 'GCU',\n 'D': 'GAU',\n 'E': 'GAG',\n 'G': 'GGU',\n 'F': 'UUU',\n 'Y': 'UAU',\n '_': 'UGA',\n 'C': 'UGU',\n 'W': 'UGG'}"
     },
     "execution_count": 63,
     "metadata": {},
     "output_type": "execute_result"
    }
   ],
   "source": [
    "# reveresed the aminoacid_dict\n",
    "\n",
    "reveresed_amino_cid_dict = {v:k for k,v in aminoacid_dict.items()}\n",
    "\n",
    "reveresed_amino_cid_dict"
   ],
   "metadata": {
    "collapsed": false
   }
  },
  {
   "cell_type": "code",
   "execution_count": 66,
   "outputs": [
    {
     "data": {
      "text/plain": "'AUGGAGGGUGAUGGUUCUGAUCCUGAGCCUCCUGAUGCUGGUGAGGAUUCUAAGUCUGAGAAUGGUGAGAAUGCUCCUAUUUAUUGUAUUUGUCGUAAGCCUGAUAUUAAUUGUUUUAUGAUUGGUUGUGAUAAUUGUAAUGAGUGGUUUCAUGGUGAUUGUAUUCGUAUUACUGAGAAGAUGGCUAAGGCUAUUCGUGAGUGGUAUUGUCGUGAGUGUCGUGAGAAGGAUCCUAAGUUGGAGAUUCGUUAUCGUCAUAAGAAGUCUCGUGAGCGUGAUGGUAAUGAGCGUGAUUCUUCUGAGCCUCGUGAUGAGGGUGGUGGUCGUAAGCGUCCUGUUCCUGAUCCUGAUUUGCAGCGUCGUGCUGGUUCUGGUACUGGUGUUGGUGCUAUGUUGGCUCGUGGUUCUGCUUCUCCUCAUAAGUCUUCUCCUCAGCCUUUGGUUGCUACUCCUUCUCAGCAUCAUCAGCAGCAGCAGCAGCAGAUUAAGCGUUCUGCUCGUAUGUGUGGUGAGUGUGAGGCUUGUCGUCGUACUGAGGAUUGUGGUCAUUGUGAUUUUUGUCGUGAUAUGAAGAAGUUUGGUGGUCCUAAUAAGAUUCGUCAGAAGUGUCGUUUGCGUCAGUGUCAGUUGCGUGCUCGUGAGUCUUAUAAGUAUUUUCCUUCUUCUUUGUCUCCUGUUACUCCUUCUGAGUCUUUGCCUCGUCCUCGUCGUCCUUUGCCUACUCAGCAGCAGCCUCAGCCUUCUCAGAAGUUGGGUCGUAUUCGUGAGGAUGAGGGUGCUGUUGCUUCUUCUACUGUUAAGGAGCCUCCUGAGGCUACUGCUACUCCUGAGCCUUUGUCUGAUGAGGAUUUGCCUUUGGAUCCUGAUUUGUAUCAGGAUUUUUGUGCUGGUGCUUUUGAUGAUCAUGGUUUGCCUUGGAUGUCUGAUACUGAGGAGUCUCCUUUUUUGGAUCCUGCUUUGCGUAAGCGUGCUGUUAAGGUUAAGCAUGUUAAGCGUCGUGAGAAGAAGUCUGAGAAGAAGAAGGAGGAGCGUUAUAAGCGUCAUCGUCAGAAGCAGAAGCAUAAGGAUAAGUGGAAGCAUCCUGAGCGUGCUGAUGCUAAGGAUCCUGCUUCUUUGCCUCAGUGUUUGGGUCCUGGUUGUGUUCGUCCUGCUCAGCCUUCUUCUAAGUAUUGUUCUGAUGAUUGUGGUAUGAAGUUGGCUGCUAAUCGUAUUUAUGAGAUUUUGCCUCAGCGUAUUCAGCAGUGGCAGCAGUCUCCUUGUAUUGCUGAGGAGCAUGGUAAGAAGUUGUUGGAGCGUAUUCGUCGUGAGCAGCAGUCUGCUCGUACUCGUUUGCAGGAGAUGGAGCGUCGUUUUCAUGAGUUGGAGGCUAUUAUUUUGCGUGCUAAGCAGCAGGCUGUUCGUGAGGAUGAGGAGUCUAAUGAGGGUGAUUCUGAUGAUACUGAUUUGCAGAUUUUUUGUGUUUCUUGUGGUCAUCCUAUUAAUCCUCGUGUUGCUUUGCGUCAUAUGGAGCGUUGUUAUGCUAAGUAUGAGUCUCAGACUUCUUUUGGUUCUAUGUAUCCUACUCGUAUUGAGGGUGCUACUCGUUUGUUUUGUGAUGUUUAUAAUCCUCAGUCUAAGACUUAUUGUAAGCGUUUGCAGGUUUUGUGUCCUGAGCAUUCUCGUGAUCCUAAGGUUCCUGCUGAUGAGGUUUGUGGUUGUCCUUUGGUUCGUGAUGUUUUUGAGUUGACUGGUGAUUUUUGUCGUUUGCCUAAGCGUCAGUGUAAUCGUCAUUAUUGUUGGGAGAAGUUGCGUCGUGCUGAGGUUGAUUUGGAGCGUGUUCGUGUUUGGUAUAAGUUGGAUGAGUUGUUUGAGCAGGAGCGUAAUGUUCGUACUGCUAUGACUAAUCGUGCUGGUUUGUUGGCUUUGAUGUUGCAUCAGACUAUUCAGCAUGAUCCUUUGACUACUGAUUUGCGUUCUUCUGCUGAUCGU'"
     },
     "execution_count": 66,
     "metadata": {},
     "output_type": "execute_result"
    }
   ],
   "source": [
    "gbank_rna = []\n",
    "\n",
    "for aa in gbank_protein_chain:\n",
    "    #print(aa)\n",
    "    gbank_rna.append(reveresed_amino_cid_dict[aa])\n",
    "\n",
    "''.join(gbank_rna)"
   ],
   "metadata": {
    "collapsed": false
   }
  },
  {
   "cell_type": "code",
   "execution_count": null,
   "outputs": [],
   "source": [],
   "metadata": {
    "collapsed": false
   }
  }
 ],
 "metadata": {
  "kernelspec": {
   "display_name": "Python 3",
   "language": "python",
   "name": "python3"
  },
  "language_info": {
   "codemirror_mode": {
    "name": "ipython",
    "version": 2
   },
   "file_extension": ".py",
   "mimetype": "text/x-python",
   "name": "python",
   "nbconvert_exporter": "python",
   "pygments_lexer": "ipython2",
   "version": "2.7.6"
  }
 },
 "nbformat": 4,
 "nbformat_minor": 0
}
