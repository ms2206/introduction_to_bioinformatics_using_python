{
 "cells": [
  {
   "cell_type": "code",
   "execution_count": 1,
   "metadata": {
    "collapsed": true
   },
   "outputs": [
    {
     "data": {
      "text/plain": "'\\nCreated on: 2024-10-28\\nAuthor: Matthew Spriggs\\nDescription: Practicals from Introduction to bioinformatics using python :: Cranfield University\\n'"
     },
     "execution_count": 1,
     "metadata": {},
     "output_type": "execute_result"
    }
   ],
   "source": [
    "#!/usr/bin/env python3\n",
    "'''\n",
    "Created on: 2024-10-28\n",
    "Author: Matthew Spriggs\n",
    "Description: Practicals from Introduction to bioinformatics using python :: Cranfield University\n",
    "'''"
   ]
  },
  {
   "cell_type": "code",
   "execution_count": 1,
   "outputs": [],
   "source": [
    "import sys\n",
    "import os\n",
    "import matplotlib.pyplot as plt\n",
    "\n",
    "# Add the parent directory to sys.path\n",
    "sys.path.append(os.path.abspath(os.path.join('..')))\n",
    "\n",
    "# Now you can import the module\n",
    "from prac2.random_dna import dna_generator"
   ],
   "metadata": {
    "collapsed": false
   }
  },
  {
   "cell_type": "code",
   "execution_count": 11,
   "outputs": [],
   "source": [
    "seq = dna_generator()"
   ],
   "metadata": {
    "collapsed": false
   }
  },
  {
   "cell_type": "code",
   "execution_count": 43,
   "outputs": [],
   "source": [
    "A = 0\n",
    "T = 0\n",
    "G = 0\n",
    "C = 0\n",
    "unknown = 0\n",
    "\n",
    "\n",
    "\n",
    "def init_l():\n",
    "    global A, T, G, C, unknown\n",
    "    A = 0\n",
    "    T = 0\n",
    "    G = 0\n",
    "    C = 0\n",
    "    unknown = 0"
   ],
   "metadata": {
    "collapsed": false
   }
  },
  {
   "cell_type": "code",
   "execution_count": 44,
   "outputs": [],
   "source": [
    "init_l()\n",
    "\n",
    "for base in seq:\n",
    "    match base:\n",
    "        case 'A':\n",
    "            A += 1\n",
    "\n",
    "        case 'T':\n",
    "            T += 1\n",
    "\n",
    "        case 'G':\n",
    "            G += 1\n",
    "\n",
    "        case 'C':\n",
    "            C += 1\n",
    "\n",
    "        case _:\n",
    "            unknown +=1\n"
   ],
   "metadata": {
    "collapsed": false
   }
  },
  {
   "cell_type": "code",
   "execution_count": 45,
   "outputs": [
    {
     "name": "stdout",
     "output_type": "stream",
     "text": [
      "16 25 32 27\n"
     ]
    }
   ],
   "source": [
    "print(A, G, C, T)"
   ],
   "metadata": {
    "collapsed": false
   }
  },
  {
   "cell_type": "code",
   "execution_count": 46,
   "outputs": [
    {
     "data": {
      "text/plain": "100"
     },
     "execution_count": 46,
     "metadata": {},
     "output_type": "execute_result"
    }
   ],
   "source": [
    "total_n = A + G + C + T + unknown\n",
    "total_n"
   ],
   "metadata": {
    "collapsed": false
   }
  },
  {
   "cell_type": "code",
   "execution_count": 47,
   "outputs": [],
   "source": [
    "t_A = A / total_n\n",
    "t_G = G / total_n\n",
    "t_C = C / total_n\n",
    "t_T = T / total_n"
   ],
   "metadata": {
    "collapsed": false
   }
  },
  {
   "cell_type": "code",
   "execution_count": 48,
   "outputs": [
    {
     "name": "stdout",
     "output_type": "stream",
     "text": [
      "0.16 0.25 0.32 0.27\n"
     ]
    }
   ],
   "source": [
    "print(t_A, t_G, t_C, t_T)"
   ],
   "metadata": {
    "collapsed": false
   }
  },
  {
   "cell_type": "code",
   "execution_count": 30,
   "outputs": [
    {
     "data": {
      "text/plain": "'CAAAAAAGTAAAGCCTATAACTACAAAGAGCGGTTCAAAGTCCTAACTATTAGATGCACGATGTGTCACGCGCCACTCCGGATCCAACCGTGATGTGCAACTAGATAGGCAGACTACTCTGTCTTGAGTCCGTTATTAGTAAATTACCGTCGGCGTAGGCCGACGTGCAGCTCTCGAACCGCCTCCTGGGTTCCACAAGCATGGGGGGTGATGGGCGAATGGTACAATTGGCAGGCTGAAGTTCCTATTTCGTCAGAGCAAGTTGCCAACAGCGTCTAGGCTAATTTTGACGGGCCGTGAGGAATGTGGGGTCTACTTCGTGCCCCCGACTACCATGTAGCGGCTCCGCACAATTGTCGTGATGAAAGCGGGCTCCAGGGTTTCCCGGCCGCGTGTTCTATGTCCACAAATCCCTGGCAGATTTCCTTGACGTGCCGGTACTCTAGTGTCTTTTGCAGTTAAGCTACCCCGTCGCAAGACTCCTACCACTTAGTTACATG'"
     },
     "execution_count": 30,
     "metadata": {},
     "output_type": "execute_result"
    }
   ],
   "source": [
    "seq = 'CAAAAAAGTAAAGCCTATAACTACAAAGAGCGGTTCAAAGTCCTAACTATTAGATGCACGATGTGTCACGCGCCACTCCGGATCCAACCGTGATGTGCAACTAGATAGGCAGACTACTCTGTCTTGAGTCCGTTATTAGTAAATTACCGTCGGCGTAGGCCGACGTGCAGCTCTCGAACCGCCTCCTGGGTTCCACAAGCATGGGGGGTGATGGGCGAATGGTACAATTGGCAGGCTGAAGTTCCTATTTCGTCAGAGCAAGTTGCCAACAGCGTCTAGGCTAATTTTGACGGGCCGTGAGGAATGTGGGGTCTACTTCGTGCCCCCGACTACCATGTAGCGGCTCCGCACAATTGTCGTGATGAAAGCGGGCTCCAGGGTTTCCCGGCCGCGTGTTCTATGTCCACAAATCCCTGGCAGATTTCCTTGACGTGCCGGTACTCTAGTGTCTTTTGCAGTTAAGCTACCCCGTCGCAAGACTCCTACCACTTAGTTACATG'\n",
    "seq"
   ],
   "metadata": {
    "collapsed": false
   }
  },
  {
   "cell_type": "code",
   "execution_count": 39,
   "outputs": [
    {
     "data": {
      "text/plain": "'AAAAAAGTAAAGCCTATAACTACAAAGAGCGGTTCAAAGTCCTAACTATTAGATGCACGATGTGTCACGCGCCACTCCGGATCCAACCGTGATGTGCAACTAGATAGGCAGACTACTCTGTCTTGAGTCCGTTATTAGTAAATTACCGTGTCCACAAATCCCTGGCAGATTTCCTTGACGTGCCGGTACTCTAGTGTCTTTTGCAGTTAAGCTACCCCGTCGCAAGACTCCTACCACTTAGTTACATG'"
     },
     "execution_count": 39,
     "metadata": {},
     "output_type": "execute_result"
    }
   ],
   "source": [
    "coding = seq[1:150] + seq[401:500]\n",
    "coding"
   ],
   "metadata": {
    "collapsed": false
   }
  },
  {
   "cell_type": "code",
   "execution_count": 40,
   "outputs": [
    {
     "data": {
      "text/plain": "'GGCGTAGGCCGACGTGCAGCTCTCGAACCGCCTCCTGGGTTCCACAAGCATGGGGGGTGATGGGCGAATGGTACAATTGGCAGGCTGAAGTTCCTATTTCGTCAGAGCAAGTTGCCAACAGCGTCTAGGCTAATTTTGACGGGCCGTGAGGAATGTGGGGTCTACTTCGTGCCCCCGACTACCATGTAGCGGCTCCGCACAATTGTCGTGATGAAAGCGGGCTCCAGGGTTTCCCGGCCGCGTGTTCTA'"
     },
     "execution_count": 40,
     "metadata": {},
     "output_type": "execute_result"
    }
   ],
   "source": [
    "noncoding = seq[151:400]\n",
    "noncoding"
   ],
   "metadata": {
    "collapsed": false
   }
  },
  {
   "cell_type": "code",
   "execution_count": 31,
   "outputs": [],
   "source": [
    "window_size = 100\n",
    "step = 5\n",
    "gc_contents = []"
   ],
   "metadata": {
    "collapsed": false
   }
  },
  {
   "cell_type": "code",
   "execution_count": 42,
   "outputs": [],
   "source": [
    "def gc_count(seq: str, window_size: int) -> list:\n",
    "\n",
    "    for i in range(0, len(seq), step ):\n",
    "        # print(i)\n",
    "\n",
    "        window = seq[i : i + window_size]\n",
    "\n",
    "        a = window.count('A')\n",
    "        g = window.count('G')\n",
    "        c = window.count('C')\n",
    "        t = window.count('T')\n",
    "\n",
    "        gc = g + c\n",
    "        total = a + g + c + t\n",
    "\n",
    "        if total > 0: # Make sure that the window is not empty ratio = gc / total gc_contents.append(ratio)\n",
    "            ratio = gc / total\n",
    "            gc_contents.append(ratio)\n",
    "\n",
    "    return gc_contents"
   ],
   "metadata": {
    "collapsed": false
   }
  },
  {
   "cell_type": "code",
   "execution_count": 46,
   "outputs": [
    {
     "data": {
      "text/plain": "[0.45,\n 0.46,\n 0.48,\n 0.47,\n 0.49,\n 0.49,\n 0.5,\n 0.49,\n 0.48,\n 0.46,\n 0.48,\n 0.52,\n 0.51,\n 0.53,\n 0.53,\n 0.52,\n 0.51,\n 0.52,\n 0.53,\n 0.53,\n 0.54,\n 0.55,\n 0.56,\n 0.57,\n 0.57,\n 0.58,\n 0.56,\n 0.58,\n 0.59,\n 0.62,\n 0.59,\n 0.57,\n 0.57,\n 0.55,\n 0.55,\n 0.55,\n 0.55,\n 0.52,\n 0.49,\n 0.52,\n 0.52,\n 0.51,\n 0.51,\n 0.5,\n 0.51,\n 0.52,\n 0.55,\n 0.53,\n 0.53,\n 0.54,\n 0.58,\n 0.56,\n 0.56,\n 0.56,\n 0.56,\n 0.57,\n 0.58,\n 0.59,\n 0.63,\n 0.62,\n 0.6,\n 0.61,\n 0.58,\n 0.59,\n 0.6,\n 0.57,\n 0.55,\n 0.57,\n 0.58,\n 0.56,\n 0.55,\n 0.55,\n 0.54,\n 0.54,\n 0.55,\n 0.55,\n 0.53,\n 0.53,\n 0.51,\n 0.48,\n 0.49,\n 0.4842105263157895,\n 0.5,\n 0.49411764705882355,\n 0.475,\n 0.49333333333333335,\n 0.5,\n 0.47692307692307695,\n 0.4666666666666667,\n 0.4727272727272727,\n 0.46,\n 0.4888888888888889,\n 0.5,\n 0.5142857142857142,\n 0.4666666666666667,\n 0.4,\n 0.4,\n 0.4,\n 0.3,\n 0.4,\n 0.45,\n 0.46,\n 0.48,\n 0.47,\n 0.49,\n 0.49,\n 0.5,\n 0.49,\n 0.48,\n 0.46,\n 0.48,\n 0.52,\n 0.51,\n 0.53,\n 0.53,\n 0.52,\n 0.51,\n 0.52,\n 0.53,\n 0.53,\n 0.54,\n 0.55,\n 0.56,\n 0.57,\n 0.57,\n 0.58,\n 0.56,\n 0.58,\n 0.59,\n 0.62,\n 0.59,\n 0.57,\n 0.57,\n 0.55,\n 0.55,\n 0.55,\n 0.55,\n 0.52,\n 0.49,\n 0.52,\n 0.52,\n 0.51,\n 0.51,\n 0.5,\n 0.51,\n 0.52,\n 0.55,\n 0.53,\n 0.53,\n 0.54,\n 0.58,\n 0.56,\n 0.56,\n 0.56,\n 0.56,\n 0.57,\n 0.58,\n 0.59,\n 0.63,\n 0.62,\n 0.6,\n 0.61,\n 0.58,\n 0.59,\n 0.6,\n 0.57,\n 0.55,\n 0.57,\n 0.58,\n 0.56,\n 0.55,\n 0.55,\n 0.54,\n 0.54,\n 0.55,\n 0.55,\n 0.53,\n 0.53,\n 0.51,\n 0.48,\n 0.49,\n 0.4842105263157895,\n 0.5,\n 0.49411764705882355,\n 0.475,\n 0.49333333333333335,\n 0.5,\n 0.47692307692307695,\n 0.4666666666666667,\n 0.4727272727272727,\n 0.46,\n 0.4888888888888889,\n 0.5,\n 0.5142857142857142,\n 0.4666666666666667,\n 0.4,\n 0.4,\n 0.4,\n 0.3,\n 0.4,\n 0.45,\n 0.46,\n 0.48,\n 0.47,\n 0.49,\n 0.49,\n 0.5,\n 0.49,\n 0.48,\n 0.46,\n 0.48,\n 0.52,\n 0.51,\n 0.53,\n 0.53,\n 0.52,\n 0.51,\n 0.52,\n 0.53,\n 0.53,\n 0.54,\n 0.55,\n 0.56,\n 0.57,\n 0.57,\n 0.58,\n 0.56,\n 0.58,\n 0.59,\n 0.62,\n 0.59,\n 0.57,\n 0.57,\n 0.55,\n 0.55,\n 0.55,\n 0.55,\n 0.52,\n 0.49,\n 0.52,\n 0.52,\n 0.51,\n 0.51,\n 0.5,\n 0.51,\n 0.52,\n 0.55,\n 0.53,\n 0.53,\n 0.54,\n 0.58,\n 0.56,\n 0.56,\n 0.56,\n 0.56,\n 0.57,\n 0.58,\n 0.59,\n 0.63,\n 0.62,\n 0.6,\n 0.61,\n 0.58,\n 0.59,\n 0.6,\n 0.57,\n 0.55,\n 0.57,\n 0.58,\n 0.56,\n 0.55,\n 0.55,\n 0.54,\n 0.54,\n 0.55,\n 0.55,\n 0.53,\n 0.53,\n 0.51,\n 0.48,\n 0.49,\n 0.4842105263157895,\n 0.5,\n 0.49411764705882355,\n 0.475,\n 0.49333333333333335,\n 0.5,\n 0.47692307692307695,\n 0.4666666666666667,\n 0.4727272727272727,\n 0.46,\n 0.4888888888888889,\n 0.5,\n 0.5142857142857142,\n 0.4666666666666667,\n 0.4,\n 0.4,\n 0.4,\n 0.3,\n 0.4,\n 0.45,\n 0.46,\n 0.48,\n 0.47,\n 0.49,\n 0.5,\n 0.5,\n 0.48,\n 0.48,\n 0.46,\n 0.49,\n 0.5,\n 0.48,\n 0.5,\n 0.48,\n 0.46,\n 0.45,\n 0.47,\n 0.46,\n 0.46,\n 0.45,\n 0.46,\n 0.44,\n 0.45,\n 0.46,\n 0.47,\n 0.47,\n 0.49,\n 0.49,\n 0.51,\n 0.4897959183673469,\n 0.4838709677419355,\n 0.5,\n 0.4819277108433735,\n 0.48717948717948717,\n 0.4931506849315068,\n 0.4852941176470588,\n 0.4603174603174603,\n 0.46551724137931033,\n 0.4716981132075472,\n 0.4791666666666667,\n 0.4883720930232558,\n 0.5263157894736842,\n 0.5151515151515151,\n 0.4642857142857143,\n 0.43478260869565216,\n 0.3888888888888889,\n 0.3076923076923077,\n 0.375,\n 0.3333333333333333,\n 0.45,\n 0.46,\n 0.48,\n 0.47,\n 0.49,\n 0.49,\n 0.5,\n 0.49,\n 0.48,\n 0.46,\n 0.48,\n 0.52,\n 0.51,\n 0.53,\n 0.53,\n 0.52,\n 0.51,\n 0.52,\n 0.53,\n 0.53,\n 0.54,\n 0.55,\n 0.56,\n 0.57,\n 0.57,\n 0.58,\n 0.56,\n 0.58,\n 0.59,\n 0.62,\n 0.59,\n 0.57,\n 0.57,\n 0.55,\n 0.55,\n 0.55,\n 0.55,\n 0.52,\n 0.49,\n 0.52,\n 0.52,\n 0.51,\n 0.51,\n 0.5,\n 0.51,\n 0.52,\n 0.55,\n 0.53,\n 0.53,\n 0.54,\n 0.58,\n 0.56,\n 0.56,\n 0.56,\n 0.56,\n 0.57,\n 0.58,\n 0.59,\n 0.63,\n 0.62,\n 0.6,\n 0.61,\n 0.58,\n 0.59,\n 0.6,\n 0.57,\n 0.55,\n 0.57,\n 0.58,\n 0.56,\n 0.55,\n 0.55,\n 0.54,\n 0.54,\n 0.55,\n 0.55,\n 0.53,\n 0.53,\n 0.51,\n 0.48,\n 0.49,\n 0.4842105263157895,\n 0.5,\n 0.49411764705882355,\n 0.475,\n 0.49333333333333335,\n 0.5,\n 0.47692307692307695,\n 0.4666666666666667,\n 0.4727272727272727,\n 0.46,\n 0.4888888888888889,\n 0.5,\n 0.5142857142857142,\n 0.4666666666666667,\n 0.4,\n 0.4,\n 0.4,\n 0.3,\n 0.4,\n 0.45,\n 0.46,\n 0.48,\n 0.47,\n 0.49,\n 0.5,\n 0.5,\n 0.48,\n 0.48,\n 0.46,\n 0.49,\n 0.5,\n 0.48,\n 0.5,\n 0.48,\n 0.46,\n 0.45,\n 0.47,\n 0.46,\n 0.46,\n 0.45,\n 0.46,\n 0.44,\n 0.45,\n 0.46,\n 0.47,\n 0.47,\n 0.49,\n 0.49,\n 0.51,\n 0.4897959183673469,\n 0.4838709677419355,\n 0.5,\n 0.4819277108433735,\n 0.48717948717948717,\n 0.4931506849315068,\n 0.4852941176470588,\n 0.4603174603174603,\n 0.46551724137931033,\n 0.4716981132075472,\n 0.4791666666666667,\n 0.4883720930232558,\n 0.5263157894736842,\n 0.5151515151515151,\n 0.4642857142857143,\n 0.43478260869565216,\n 0.3888888888888889,\n 0.3076923076923077,\n 0.375,\n 0.3333333333333333,\n 0.59,\n 0.58,\n 0.56,\n 0.56,\n 0.54,\n 0.55,\n 0.55,\n 0.51,\n 0.5,\n 0.52,\n 0.53,\n 0.51,\n 0.52,\n 0.5,\n 0.5,\n 0.53,\n 0.54,\n 0.52,\n 0.53,\n 0.55,\n 0.58,\n 0.56,\n 0.57,\n 0.55,\n 0.57,\n 0.57,\n 0.57,\n 0.6,\n 0.63,\n 0.61,\n 0.5959595959595959,\n 0.6063829787234043,\n 0.5955056179775281,\n 0.6071428571428571,\n 0.620253164556962,\n 0.5945945945945946,\n 0.5942028985507246,\n 0.609375,\n 0.6101694915254238,\n 0.5925925925925926,\n 0.5714285714285714,\n 0.6136363636363636,\n 0.6153846153846154,\n 0.6764705882352942,\n 0.6551724137931034,\n 0.625,\n 0.631578947368421,\n 0.6428571428571429,\n 0.4444444444444444,\n 0.25,\n 0.45,\n 0.46,\n 0.48,\n 0.47,\n 0.49,\n 0.49,\n 0.5,\n 0.49,\n 0.48,\n 0.46,\n 0.48,\n 0.52,\n 0.51,\n 0.53,\n 0.53,\n 0.52,\n 0.51,\n 0.52,\n 0.53,\n 0.53,\n 0.54,\n 0.55,\n 0.56,\n 0.57,\n 0.57,\n 0.58,\n 0.56,\n 0.58,\n 0.59,\n 0.62,\n 0.59,\n 0.57,\n 0.57,\n 0.55,\n 0.55,\n 0.55,\n 0.55,\n 0.52,\n 0.49,\n 0.52,\n 0.52,\n 0.51,\n 0.51,\n 0.5,\n 0.51,\n 0.52,\n 0.55,\n 0.53,\n 0.53,\n 0.54,\n 0.58,\n 0.56,\n 0.56,\n 0.56,\n 0.56,\n 0.57,\n 0.58,\n 0.59,\n 0.63,\n 0.62,\n 0.6,\n 0.61,\n 0.58,\n 0.59,\n 0.6,\n 0.57,\n 0.55,\n 0.57,\n 0.58,\n 0.56,\n 0.55,\n 0.55,\n 0.54,\n 0.54,\n 0.55,\n 0.55,\n 0.53,\n 0.53,\n 0.51,\n 0.48,\n 0.49,\n 0.4842105263157895,\n 0.5,\n 0.49411764705882355,\n 0.475,\n 0.49333333333333335,\n 0.5,\n 0.47692307692307695,\n 0.4666666666666667,\n 0.4727272727272727,\n 0.46,\n 0.4888888888888889,\n 0.5,\n 0.5142857142857142,\n 0.4666666666666667,\n 0.4,\n 0.4,\n 0.4,\n 0.3,\n 0.4,\n 0.45,\n 0.46,\n 0.48,\n 0.47,\n 0.49,\n 0.5,\n 0.5,\n 0.48,\n 0.48,\n 0.46,\n 0.49,\n 0.5,\n 0.48,\n 0.5,\n 0.48,\n 0.46,\n 0.45,\n 0.47,\n 0.46,\n 0.46,\n 0.45,\n 0.46,\n 0.44,\n 0.45,\n 0.46,\n 0.47,\n 0.47,\n 0.49,\n 0.49,\n 0.51,\n 0.4897959183673469,\n 0.4838709677419355,\n 0.5,\n 0.4819277108433735,\n 0.48717948717948717,\n 0.4931506849315068,\n 0.4852941176470588,\n 0.4603174603174603,\n 0.46551724137931033,\n 0.4716981132075472,\n 0.4791666666666667,\n 0.4883720930232558,\n 0.5263157894736842,\n 0.5151515151515151,\n 0.4642857142857143,\n 0.43478260869565216,\n 0.3888888888888889,\n 0.3076923076923077,\n 0.375,\n 0.3333333333333333,\n 0.59,\n 0.58,\n 0.56,\n 0.56,\n 0.54,\n 0.55,\n 0.55,\n 0.51,\n 0.5,\n 0.52,\n 0.53,\n 0.51,\n 0.52,\n 0.5,\n 0.5,\n 0.53,\n 0.54,\n 0.52,\n 0.53,\n 0.55,\n 0.58,\n 0.56,\n 0.57,\n 0.55,\n 0.57,\n 0.57,\n 0.57,\n 0.6,\n 0.63,\n 0.61,\n 0.5959595959595959,\n 0.6063829787234043,\n 0.5955056179775281,\n 0.6071428571428571,\n 0.620253164556962,\n 0.5945945945945946,\n 0.5942028985507246,\n 0.609375,\n 0.6101694915254238,\n 0.5925925925925926,\n 0.5714285714285714,\n 0.6136363636363636,\n 0.6153846153846154,\n 0.6764705882352942,\n 0.6551724137931034,\n 0.625,\n 0.631578947368421,\n 0.6428571428571429,\n 0.4444444444444444,\n 0.25]"
     },
     "execution_count": 46,
     "metadata": {},
     "output_type": "execute_result"
    }
   ],
   "source": [
    "gc_count(seq, 100)\n",
    "gc_count(coding, 100)\n",
    "gc_count(noncoding, 100)"
   ],
   "metadata": {
    "collapsed": false
   }
  },
  {
   "cell_type": "code",
   "execution_count": 47,
   "outputs": [
    {
     "name": "stderr",
     "output_type": "stream",
     "text": [
      "Matplotlib is building the font cache; this may take a moment.\n"
     ]
    }
   ],
   "source": [],
   "metadata": {
    "collapsed": false
   }
  },
  {
   "cell_type": "code",
   "execution_count": 51,
   "outputs": [
    {
     "data": {
      "text/plain": "Text(0.5, 1.0, 'Coding GC Content Histogram')"
     },
     "execution_count": 51,
     "metadata": {},
     "output_type": "execute_result"
    },
    {
     "data": {
      "text/plain": "<Figure size 640x480 with 1 Axes>",
      "image/png": "[encoded data removed]"
     },
     "metadata": {},
     "output_type": "display_data"
    }
   ],
   "source": [
    "plt.hist(gc_count(coding, 100), bins=15, edgecolor='black')\n",
    "plt.title('Coding GC Content Histogram')"
   ],
   "metadata": {
    "collapsed": false
   }
  },
  {
   "cell_type": "code",
   "execution_count": 52,
   "outputs": [
    {
     "data": {
      "text/plain": "Text(0.5, 1.0, 'Coding GC Content Histogram')"
     },
     "execution_count": 52,
     "metadata": {},
     "output_type": "execute_result"
    },
    {
     "data": {
      "text/plain": "<Figure size 640x480 with 1 Axes>",
      "image/png": "[encoded data removed]"
     },
     "metadata": {},
     "output_type": "display_data"
    }
   ],
   "source": [
    "plt.hist(gc_count(noncoding, 100), bins=15, edgecolor='black')\n",
    "plt.title('Coding GC Content Histogram')"
   ],
   "metadata": {
    "collapsed": false
   }
  },
  {
   "cell_type": "code",
   "execution_count": null,
   "outputs": [],
   "source": [],
   "metadata": {
    "collapsed": false
   }
  }
 ],
 "metadata": {
  "kernelspec": {
   "display_name": "Python 3",
   "language": "python",
   "name": "python3"
  },
  "language_info": {
   "codemirror_mode": {
    "name": "ipython",
    "version": 2
   },
   "file_extension": ".py",
   "mimetype": "text/x-python",
   "name": "python",
   "nbconvert_exporter": "python",
   "pygments_lexer": "ipython2",
   "version": "2.7.6"
  }
 },
 "nbformat": 4,
 "nbformat_minor": 0
}
